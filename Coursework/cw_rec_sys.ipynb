{
 "cells": [
  {
   "cell_type": "markdown",
   "metadata": {
    "id": "duNEe95A0R7-"
   },
   "source": [
    "# Курсовая работа по курсу:  \"Рекомендательные системы\" Трифонов Р.С."
   ]
  },
  {
   "cell_type": "code",
   "execution_count": 3,
   "metadata": {
    "id": "7tEl1lJO0R8R"
   },
   "outputs": [],
   "source": [
    "import pandas as pd\n",
    "import numpy as np\n",
    "import matplotlib.pyplot as plt\n",
    "%matplotlib inline\n",
    "import random\n",
    "\n",
    "# Для работы с матрицами\n",
    "from scipy.sparse import csr_matrix\n",
    "\n",
    "# Матричная факторизация\n",
    "from implicit import als\n",
    "\n",
    "# Модель второго уровня\n",
    "from lightgbm import LGBMClassifier\n",
    "\n",
    "import os, sys\n",
    "\n",
    "import src"
   ]
  },
  {
   "cell_type": "code",
   "execution_count": 10,
   "metadata": {
    "id": "uhcT5SNq0rhZ"
   },
   "outputs": [],
   "source": [
    "path_to_files = '/data'"
   ]
  },
  {
   "cell_type": "code",
   "execution_count": 11,
   "metadata": {
    "id": "qY9vSH5L0jC1"
   },
   "outputs": [],
   "source": [
    "data          = pd.read_csv(os.path.join(path_to_files, \"data.csv\"))\n",
    "user_features = pd.read_csv(os.path.join(path_to_files, \"user_features.csv\"))\n",
    "item_features = pd.read_csv(os.path.join(path_to_files, \"item_features.csv\"))"
   ]
  },
  {
   "cell_type": "code",
   "execution_count": 12,
   "metadata": {
    "colab": {
     "base_uri": "https://localhost:8080/",
     "height": 111
    },
    "id": "eTB2i5BP0R8U",
    "outputId": "2545d393-885e-40fd-dc59-fa6de6160605"
   },
   "outputs": [
    {
     "data": {
      "text/html": [
       "<div>\n",
       "<style scoped>\n",
       "    .dataframe tbody tr th:only-of-type {\n",
       "        vertical-align: middle;\n",
       "    }\n",
       "\n",
       "    .dataframe tbody tr th {\n",
       "        vertical-align: top;\n",
       "    }\n",
       "\n",
       "    .dataframe thead th {\n",
       "        text-align: right;\n",
       "    }\n",
       "</style>\n",
       "<table border=\"1\" class=\"dataframe\">\n",
       "  <thead>\n",
       "    <tr style=\"text-align: right;\">\n",
       "      <th></th>\n",
       "      <th>user_id</th>\n",
       "      <th>basket_id</th>\n",
       "      <th>day</th>\n",
       "      <th>item_id</th>\n",
       "      <th>quantity</th>\n",
       "      <th>sales_value</th>\n",
       "      <th>store_id</th>\n",
       "      <th>retail_disc</th>\n",
       "      <th>trans_time</th>\n",
       "      <th>week_no</th>\n",
       "      <th>coupon_disc</th>\n",
       "      <th>coupon_match_disc</th>\n",
       "    </tr>\n",
       "  </thead>\n",
       "  <tbody>\n",
       "    <tr>\n",
       "      <th>0</th>\n",
       "      <td>2375</td>\n",
       "      <td>26984851472</td>\n",
       "      <td>1</td>\n",
       "      <td>999999</td>\n",
       "      <td>1</td>\n",
       "      <td>1.39</td>\n",
       "      <td>364</td>\n",
       "      <td>-0.6</td>\n",
       "      <td>1631</td>\n",
       "      <td>1</td>\n",
       "      <td>0.0</td>\n",
       "      <td>0.0</td>\n",
       "    </tr>\n",
       "    <tr>\n",
       "      <th>1</th>\n",
       "      <td>2375</td>\n",
       "      <td>26984851472</td>\n",
       "      <td>1</td>\n",
       "      <td>999999</td>\n",
       "      <td>1</td>\n",
       "      <td>0.82</td>\n",
       "      <td>364</td>\n",
       "      <td>0.0</td>\n",
       "      <td>1631</td>\n",
       "      <td>1</td>\n",
       "      <td>0.0</td>\n",
       "      <td>0.0</td>\n",
       "    </tr>\n",
       "  </tbody>\n",
       "</table>\n",
       "</div>"
      ],
      "text/plain": [
       "   user_id    basket_id  day  ...  week_no  coupon_disc  coupon_match_disc\n",
       "0     2375  26984851472    1  ...        1          0.0                0.0\n",
       "1     2375  26984851472    1  ...        1          0.0                0.0\n",
       "\n",
       "[2 rows x 12 columns]"
      ]
     },
     "execution_count": 12,
     "metadata": {
      "tags": []
     },
     "output_type": "execute_result"
    }
   ],
   "source": [
    "# схема обучения и валидации\n",
    "# -- давние покупки -- | -- 6 недель -- | -- 3 недель -- \n",
    "# подобрать размер 2-ого датасета (6 недель) --> learning curve (зависимость метрики recall@k от размера датасета)\n",
    "val_lvl_1_size_weeks = 6\n",
    "val_lvl_2_size_weeks = 3\n",
    "\n",
    "data_train_lvl_1 = data[data['week_no'] < data['week_no'].max() - (val_lvl_1_size_weeks + val_lvl_2_size_weeks)]\n",
    "data_val_lvl_1 = data[(data['week_no'] >= data['week_no'].max() - (val_lvl_1_size_weeks + val_lvl_2_size_weeks)) &\n",
    "                      (data['week_no'] < data['week_no'].max() - (val_lvl_2_size_weeks))]\n",
    "\n",
    "data_train_lvl_2 = data_val_lvl_1.copy()  # Для наглядности. Далее мы добавим изменения, и они будут отличаться\n",
    "data_val_lvl_2 = data[data['week_no'] >= data['week_no'].max() - val_lvl_2_size_weeks]\n",
    "\n",
    "data_train_lvl_1.head(2)"
   ]
  },
  {
   "cell_type": "code",
   "execution_count": 13,
   "metadata": {
    "colab": {
     "base_uri": "https://localhost:8080/"
    },
    "id": "rM9CdgYP0R8X",
    "outputId": "200076e6-bd2d-4f4c-82b4-f1346a1352a6"
   },
   "outputs": [
    {
     "name": "stdout",
     "output_type": "stream",
     "text": [
      "user_item_matrix\n"
     ]
    },
    {
     "name": "stderr",
     "output_type": "stream",
     "text": [
      "GPU training requires factor size to be a multiple of 32. Increasing factors from 50 to 64.\n",
      "WARNING:root:OpenBLAS detected. Its highly recommend to set the environment variable 'export OPENBLAS_NUM_THREADS=1' to disable its internal multithreading\n"
     ]
    },
    {
     "name": "stdout",
     "output_type": "stream",
     "text": [
      "user_feat\n",
      "item_feat\n",
      "ALS model\n"
     ]
    },
    {
     "name": "stderr",
     "output_type": "stream",
     "text": [
      "WARNING:implicit:GPU training requires factor size to be a multiple of 32. Increasing factors from 50 to 64.\n"
     ]
    },
    {
     "name": "stdout",
     "output_type": "stream",
     "text": [
      "ALS TF-IDF model\n"
     ]
    },
    {
     "name": "stderr",
     "output_type": "stream",
     "text": [
      "WARNING:implicit:GPU training requires factor size to be a multiple of 32. Increasing factors from 50 to 64.\n"
     ]
    },
    {
     "name": "stdout",
     "output_type": "stream",
     "text": [
      "ALS BM25 model\n",
      "LightFM model\n",
      "Own\n"
     ]
    }
   ],
   "source": [
    "recommender = MainRecommender(data_train_lvl_1, item_features, user_features)"
   ]
  },
  {
   "cell_type": "code",
   "execution_count": 14,
   "metadata": {
    "id": "T4jAA4Cq0R8Y"
   },
   "outputs": [],
   "source": [
    "users_lvl_2_pred_als = pd.DataFrame(data_val_lvl_2['user_id'].unique())\n",
    "users_lvl_2_pred_als.columns = ['user_id']"
   ]
  },
  {
   "cell_type": "code",
   "execution_count": 116,
   "metadata": {
    "id": "L6KaSHGt0R8Z"
   },
   "outputs": [],
   "source": [
    "result_lvl_2 = data_val_lvl_2.groupby('user_id')['item_id'].unique().reset_index()\n",
    "result_lvl_2.columns=['user_id', 'actual']"
   ]
  },
  {
   "cell_type": "code",
   "execution_count": 117,
   "metadata": {
    "id": "nJCjKGnCWFPt"
   },
   "outputs": [],
   "source": [
    "k_n = 5\n",
    "num = 40"
   ]
  },
  {
   "cell_type": "code",
   "execution_count": 118,
   "metadata": {
    "colab": {
     "base_uri": "https://localhost:8080/"
    },
    "id": "37jOPHqX0R8Z",
    "outputId": "ca99d631-e9f5-4dfa-b5c3-9cabcbaffe33"
   },
   "outputs": [
    {
     "data": {
      "text/plain": [
       "40"
      ]
     },
     "execution_count": 118,
     "metadata": {
      "tags": []
     },
     "output_type": "execute_result"
    }
   ],
   "source": [
    "popularity = data.groupby('item_id')['quantity'].sum().reset_index()\n",
    "popularity.rename(columns={'quantity': 'n_sold'}, inplace=True)\n",
    "item_list = popularity.sort_values('n_sold', ascending=False).head(num+1).item_id.tolist()\n",
    "item_list = item_list[1:num+1]\n",
    "len(item_list)"
   ]
  },
  {
   "cell_type": "code",
   "execution_count": 119,
   "metadata": {
    "id": "j7m_fhMD0R8a"
   },
   "outputs": [],
   "source": [
    "user_train_list = data_train_lvl_1[\"user_id\"].unique().tolist()"
   ]
  },
  {
   "cell_type": "code",
   "execution_count": 19,
   "metadata": {
    "id": "qHjmX-RS0R8b"
   },
   "outputs": [],
   "source": [
    "def get_pred_als(recommender, user_train_list, item_list, x, num=5):\n",
    "    res = []\n",
    "    if x in user_train_list:\n",
    "        res.extend(recommender.get_als_recommendations(x, rec_num=num))\n",
    "    else:\n",
    "        res.extend(item_list)    # res.extend(random.choices(item_list, k=num))\n",
    "    return res"
   ]
  },
  {
   "cell_type": "code",
   "execution_count": 20,
   "metadata": {
    "id": "wuYFaPDOnc99"
   },
   "outputs": [],
   "source": [
    "def get_pred_als_tfidf(recommender, user_train_list, item_list, x, num=5):\n",
    "    res = []\n",
    "    if x in user_train_list:\n",
    "        res.extend(recommender.get_als_tfidf_recommendations(x, rec_num=num))\n",
    "    else:\n",
    "        res.extend(item_list)    # res.extend(random.choices(item_list, k=num))\n",
    "    return res"
   ]
  },
  {
   "cell_type": "code",
   "execution_count": 21,
   "metadata": {
    "id": "1n57Ykxmnd0l"
   },
   "outputs": [],
   "source": [
    "def get_pred_als_bm25(recommender, user_train_list, item_list, x, num=5):\n",
    "    res = []\n",
    "    if x in user_train_list:\n",
    "        res.extend(recommender.get_als_bm25_recommendations(x, rec_num=num))\n",
    "    else:\n",
    "        res.extend(item_list)    # res.extend(random.choices(item_list, k=num))\n",
    "    return res"
   ]
  },
  {
   "cell_type": "code",
   "execution_count": 22,
   "metadata": {
    "id": "VwQ8nHRp0R8c"
   },
   "outputs": [],
   "source": [
    "def get_pred_own(recommender, user_train_list, item_list, x, num=5):\n",
    "    res = []\n",
    "    if x in user_train_list:\n",
    "        res.extend(recommender.get_own_recommendations(x, rec_num=num))\n",
    "    else:\n",
    "        res.extend(item_list)    # res.extend(random.choices(item_list, k=num))\n",
    "    return res"
   ]
  },
  {
   "cell_type": "code",
   "execution_count": 23,
   "metadata": {
    "id": "bsxSL-WY0R8c"
   },
   "outputs": [],
   "source": [
    "def get_pred_similar_items(recommender, user_train_list, item_list, x, num=5):\n",
    "    res = []\n",
    "    if x in user_train_list:\n",
    "        res.extend(recommender.get_similar_items_recommendation(x, rec_num=num))\n",
    "    else:\n",
    "        res.extend(item_list)    # res.extend(random.choices(item_list, k=num))\n",
    "    return res"
   ]
  },
  {
   "cell_type": "code",
   "execution_count": 24,
   "metadata": {
    "colab": {
     "base_uri": "https://localhost:8080/"
    },
    "id": "vPb9YwNm0R8d",
    "outputId": "edcd1918-a70b-4454-9904-ef2d079089c1"
   },
   "outputs": [
    {
     "data": {
      "text/plain": [
       "0.2162585700293797"
      ]
     },
     "execution_count": 24,
     "metadata": {
      "tags": []
     },
     "output_type": "execute_result"
    }
   ],
   "source": [
    "users_lvl_2_pred_als['predictions'] = users_lvl_2_pred_als['user_id'].apply(\\\n",
    "                            lambda x: get_pred_als(recommender, user_train_list, item_list, x, num=num))\n",
    "    \n",
    "users_lvl_2_pred_als[\"prec\"] = users_lvl_2_pred_als['user_id'].apply(\\\n",
    "        lambda x: precision_at_k(users_lvl_2_pred_als.loc[users_lvl_2_pred_als[\"user_id\"] == x, \"predictions\"].values[0], \n",
    "                                 list(result_lvl_2.loc[result_lvl_2[\"user_id\"] == x, \"actual\"].values[0]), \n",
    "                                 k=k_n))\n",
    "\n",
    "users_lvl_2_pred_als[\"prec\"].mean()"
   ]
  },
  {
   "cell_type": "code",
   "execution_count": 25,
   "metadata": {
    "colab": {
     "base_uri": "https://localhost:8080/"
    },
    "id": "lYQpjaP10R8d",
    "outputId": "f39ae19d-d09b-4b92-9a99-1b8428a4e162"
   },
   "outputs": [
    {
     "data": {
      "text/plain": [
       "0.03958029471138852"
      ]
     },
     "execution_count": 25,
     "metadata": {
      "tags": []
     },
     "output_type": "execute_result"
    }
   ],
   "source": [
    "users_lvl_2_pred_als[\"rec\"] = users_lvl_2_pred_als['user_id'].apply(\\\n",
    "        lambda x: recall_at_k(users_lvl_2_pred_als.loc[users_lvl_2_pred_als[\"user_id\"] == x, \"predictions\"].values[0], \n",
    "                              list(result_lvl_2.loc[result_lvl_2[\"user_id\"] == x, \"actual\"].values[0]), \n",
    "                              k=k_n))\n",
    "\n",
    "users_lvl_2_pred_als[\"rec\"].mean()"
   ]
  },
  {
   "cell_type": "code",
   "execution_count": 26,
   "metadata": {
    "colab": {
     "base_uri": "https://localhost:8080/"
    },
    "id": "epIsPADV0R8e",
    "outputId": "8053cd0c-d993-436b-b580-626ded233b17"
   },
   "outputs": [
    {
     "data": {
      "text/plain": [
       "0.16346718903036014"
      ]
     },
     "execution_count": 26,
     "metadata": {
      "tags": []
     },
     "output_type": "execute_result"
    }
   ],
   "source": [
    "users_lvl_2_pred_als['predictions_tfidf'] = users_lvl_2_pred_als['user_id'].apply(\\\n",
    "                            lambda x: get_pred_als_tfidf(recommender, user_train_list, item_list, x, num=num))\n",
    "    \n",
    "users_lvl_2_pred_als[\"prec_tfidf\"] = users_lvl_2_pred_als['user_id'].apply(\\\n",
    "        lambda x: precision_at_k(users_lvl_2_pred_als.loc[users_lvl_2_pred_als[\"user_id\"] == x, \"predictions_tfidf\"].values[0], \n",
    "                                 list(result_lvl_2.loc[result_lvl_2[\"user_id\"] == x, \"actual\"].values[0]), \n",
    "                                 k=k_n))\n",
    "\n",
    "users_lvl_2_pred_als[\"prec_tfidf\"].mean()"
   ]
  },
  {
   "cell_type": "code",
   "execution_count": 27,
   "metadata": {
    "colab": {
     "base_uri": "https://localhost:8080/"
    },
    "id": "xE5iknQAQe12",
    "outputId": "8faa84a6-99f0-4b8e-fbed-c413a6ca25b7"
   },
   "outputs": [
    {
     "data": {
      "text/plain": [
       "0.031148511746959033"
      ]
     },
     "execution_count": 27,
     "metadata": {
      "tags": []
     },
     "output_type": "execute_result"
    }
   ],
   "source": [
    "users_lvl_2_pred_als[\"rec_tfidf\"] = users_lvl_2_pred_als['user_id'].apply(\\\n",
    "        lambda x: recall_at_k(users_lvl_2_pred_als.loc[users_lvl_2_pred_als[\"user_id\"] == x, \"predictions_tfidf\"].values[0], \n",
    "                              list(result_lvl_2.loc[result_lvl_2[\"user_id\"] == x, \"actual\"].values[0]), \n",
    "                              k=k_n))\n",
    "\n",
    "users_lvl_2_pred_als[\"rec_tfidf\"].mean()"
   ]
  },
  {
   "cell_type": "code",
   "execution_count": 28,
   "metadata": {
    "colab": {
     "base_uri": "https://localhost:8080/"
    },
    "id": "YCExB6JEUsre",
    "outputId": "f5e04ad6-b67f-4ab1-ad6b-2c00ab0e8143"
   },
   "outputs": [
    {
     "data": {
      "text/plain": [
       "0.13898139079333827"
      ]
     },
     "execution_count": 28,
     "metadata": {
      "tags": []
     },
     "output_type": "execute_result"
    }
   ],
   "source": [
    "users_lvl_2_pred_als['predictions_bm25'] = users_lvl_2_pred_als['user_id'].apply(\\\n",
    "                            lambda x: get_pred_als_bm25(recommender, user_train_list, item_list, x, num=num))\n",
    "    \n",
    "users_lvl_2_pred_als[\"prec_bm25\"] = users_lvl_2_pred_als['user_id'].apply(\\\n",
    "        lambda x: precision_at_k(users_lvl_2_pred_als.loc[users_lvl_2_pred_als[\"user_id\"] == x, \"predictions_bm25\"].values[0], \n",
    "                                 list(result_lvl_2.loc[result_lvl_2[\"user_id\"] == x, \"actual\"].values[0]), \n",
    "                                 k=k_n))\n",
    "\n",
    "users_lvl_2_pred_als[\"prec_bm25\"].mean()"
   ]
  },
  {
   "cell_type": "code",
   "execution_count": 29,
   "metadata": {
    "colab": {
     "base_uri": "https://localhost:8080/"
    },
    "id": "cA-qpkoSX_9L",
    "outputId": "d9a534fc-3c80-46f5-8cda-e9f596462e0d"
   },
   "outputs": [
    {
     "data": {
      "text/plain": [
       "0.0256680778793162"
      ]
     },
     "execution_count": 29,
     "metadata": {
      "tags": []
     },
     "output_type": "execute_result"
    }
   ],
   "source": [
    "users_lvl_2_pred_als[\"rec_bm25\"] = users_lvl_2_pred_als['user_id'].apply(\\\n",
    "        lambda x: recall_at_k(users_lvl_2_pred_als.loc[users_lvl_2_pred_als[\"user_id\"] == x, \"predictions_bm25\"].values[0], \n",
    "                              list(result_lvl_2.loc[result_lvl_2[\"user_id\"] == x, \"actual\"].values[0]), \n",
    "                              k=k_n))\n",
    "\n",
    "users_lvl_2_pred_als[\"rec_bm25\"].mean()"
   ]
  },
  {
   "cell_type": "code",
   "execution_count": 30,
   "metadata": {
    "colab": {
     "base_uri": "https://localhost:8080/",
     "height": 289
    },
    "id": "OsoHtTnhe6IY",
    "outputId": "adf3c31a-4f4c-4a76-abc4-c598a425784d"
   },
   "outputs": [
    {
     "data": {
      "text/html": [
       "<div>\n",
       "<style scoped>\n",
       "    .dataframe tbody tr th:only-of-type {\n",
       "        vertical-align: middle;\n",
       "    }\n",
       "\n",
       "    .dataframe tbody tr th {\n",
       "        vertical-align: top;\n",
       "    }\n",
       "\n",
       "    .dataframe thead th {\n",
       "        text-align: right;\n",
       "    }\n",
       "</style>\n",
       "<table border=\"1\" class=\"dataframe\">\n",
       "  <thead>\n",
       "    <tr style=\"text-align: right;\">\n",
       "      <th></th>\n",
       "      <th>user_id</th>\n",
       "      <th>predictions</th>\n",
       "      <th>prec</th>\n",
       "      <th>rec</th>\n",
       "      <th>predictions_tfidf</th>\n",
       "      <th>prec_tfidf</th>\n",
       "      <th>rec_tfidf</th>\n",
       "      <th>predictions_bm25</th>\n",
       "      <th>prec_bm25</th>\n",
       "      <th>rec_bm25</th>\n",
       "    </tr>\n",
       "  </thead>\n",
       "  <tbody>\n",
       "    <tr>\n",
       "      <th>0</th>\n",
       "      <td>338</td>\n",
       "      <td>[1037863, 981760, 845208, 904360, 1082185, 113...</td>\n",
       "      <td>0.4</td>\n",
       "      <td>0.027778</td>\n",
       "      <td>[845208, 923746, 896613, 904360, 1068292, 1037...</td>\n",
       "      <td>0.0</td>\n",
       "      <td>0.000000</td>\n",
       "      <td>[871611, 819840, 1084036, 1026118, 1025650, 84...</td>\n",
       "      <td>0.2</td>\n",
       "      <td>0.013889</td>\n",
       "    </tr>\n",
       "    <tr>\n",
       "      <th>1</th>\n",
       "      <td>2120</td>\n",
       "      <td>[1082185, 1106523, 981760, 995242, 1029743, 10...</td>\n",
       "      <td>0.0</td>\n",
       "      <td>0.000000</td>\n",
       "      <td>[1082185, 1029743, 995242, 981760, 1127831, 11...</td>\n",
       "      <td>0.0</td>\n",
       "      <td>0.000000</td>\n",
       "      <td>[1082185, 981760, 849843, 1041476, 995055, 113...</td>\n",
       "      <td>0.0</td>\n",
       "      <td>0.000000</td>\n",
       "    </tr>\n",
       "    <tr>\n",
       "      <th>2</th>\n",
       "      <td>2324</td>\n",
       "      <td>[995242, 1029743, 1082185, 5978656, 981760, 91...</td>\n",
       "      <td>0.6</td>\n",
       "      <td>0.075000</td>\n",
       "      <td>[1082185, 1136257, 1039156, 1027569, 5978656, ...</td>\n",
       "      <td>0.6</td>\n",
       "      <td>0.075000</td>\n",
       "      <td>[10356272, 878611, 967760, 1108894, 942045, 96...</td>\n",
       "      <td>0.2</td>\n",
       "      <td>0.025000</td>\n",
       "    </tr>\n",
       "    <tr>\n",
       "      <th>3</th>\n",
       "      <td>514</td>\n",
       "      <td>[866211, 878996, 1127831, 1082185, 1005186, 10...</td>\n",
       "      <td>0.6</td>\n",
       "      <td>0.093750</td>\n",
       "      <td>[866211, 1105488, 1005186, 965267, 1024306, 87...</td>\n",
       "      <td>0.4</td>\n",
       "      <td>0.062500</td>\n",
       "      <td>[1126786, 1082185, 878996, 923169, 835595, 639...</td>\n",
       "      <td>0.8</td>\n",
       "      <td>0.125000</td>\n",
       "    </tr>\n",
       "    <tr>\n",
       "      <th>4</th>\n",
       "      <td>1762</td>\n",
       "      <td>[1098066, 1136257, 826249, 1068719, 1084331, 1...</td>\n",
       "      <td>0.0</td>\n",
       "      <td>0.000000</td>\n",
       "      <td>[1096036, 1084331, 1110572, 1003188, 1044078, ...</td>\n",
       "      <td>0.2</td>\n",
       "      <td>0.012048</td>\n",
       "      <td>[5569471, 1029743, 1048200, 868548, 1096036, 8...</td>\n",
       "      <td>0.2</td>\n",
       "      <td>0.012048</td>\n",
       "    </tr>\n",
       "  </tbody>\n",
       "</table>\n",
       "</div>"
      ],
      "text/plain": [
       "   user_id  ...  rec_bm25\n",
       "0      338  ...  0.013889\n",
       "1     2120  ...  0.000000\n",
       "2     2324  ...  0.025000\n",
       "3      514  ...  0.125000\n",
       "4     1762  ...  0.012048\n",
       "\n",
       "[5 rows x 10 columns]"
      ]
     },
     "execution_count": 30,
     "metadata": {
      "tags": []
     },
     "output_type": "execute_result"
    }
   ],
   "source": [
    "users_lvl_2_pred_als.head()"
   ]
  },
  {
   "cell_type": "markdown",
   "metadata": {
    "id": "A07eskRxdy-0"
   },
   "source": [
    "### Строим классификатор"
   ]
  },
  {
   "cell_type": "code",
   "execution_count": 120,
   "metadata": {
    "id": "SMG6YcTy-bUJ"
   },
   "outputs": [],
   "source": [
    "users_lvl_2 = pd.DataFrame(data_train_lvl_2['user_id'].unique())\n",
    "users_lvl_2.columns = ['user_id']\n",
    "\n",
    "users_lvl_2['candidates'] = users_lvl_2['user_id'].apply(lambda x: get_pred_als(recommender, user_train_list, item_list, x, num=num))"
   ]
  },
  {
   "cell_type": "code",
   "execution_count": 121,
   "metadata": {
    "colab": {
     "base_uri": "https://localhost:8080/",
     "height": 204
    },
    "id": "Ovo12ZTx-be2",
    "outputId": "2e21f6bc-8bd1-4e65-8ff4-a01f3793aee3"
   },
   "outputs": [
    {
     "data": {
      "text/html": [
       "<div>\n",
       "<style scoped>\n",
       "    .dataframe tbody tr th:only-of-type {\n",
       "        vertical-align: middle;\n",
       "    }\n",
       "\n",
       "    .dataframe tbody tr th {\n",
       "        vertical-align: top;\n",
       "    }\n",
       "\n",
       "    .dataframe thead th {\n",
       "        text-align: right;\n",
       "    }\n",
       "</style>\n",
       "<table border=\"1\" class=\"dataframe\">\n",
       "  <thead>\n",
       "    <tr style=\"text-align: right;\">\n",
       "      <th></th>\n",
       "      <th>user_id</th>\n",
       "      <th>candidates</th>\n",
       "    </tr>\n",
       "  </thead>\n",
       "  <tbody>\n",
       "    <tr>\n",
       "      <th>0</th>\n",
       "      <td>2070</td>\n",
       "      <td>[1029743, 883404, 1082185, 908531, 1127831, 10...</td>\n",
       "    </tr>\n",
       "    <tr>\n",
       "      <th>1</th>\n",
       "      <td>2021</td>\n",
       "      <td>[951590, 1082185, 981760, 1044078, 826249, 844...</td>\n",
       "    </tr>\n",
       "    <tr>\n",
       "      <th>2</th>\n",
       "      <td>1753</td>\n",
       "      <td>[1005186, 879755, 1106523, 1085604, 1133018, 9...</td>\n",
       "    </tr>\n",
       "    <tr>\n",
       "      <th>3</th>\n",
       "      <td>2120</td>\n",
       "      <td>[1082185, 1106523, 981760, 995242, 1029743, 10...</td>\n",
       "    </tr>\n",
       "    <tr>\n",
       "      <th>4</th>\n",
       "      <td>1346</td>\n",
       "      <td>[1082185, 1127831, 1058997, 1126899, 866211, 8...</td>\n",
       "    </tr>\n",
       "  </tbody>\n",
       "</table>\n",
       "</div>"
      ],
      "text/plain": [
       "   user_id                                         candidates\n",
       "0     2070  [1029743, 883404, 1082185, 908531, 1127831, 10...\n",
       "1     2021  [951590, 1082185, 981760, 1044078, 826249, 844...\n",
       "2     1753  [1005186, 879755, 1106523, 1085604, 1133018, 9...\n",
       "3     2120  [1082185, 1106523, 981760, 995242, 1029743, 10...\n",
       "4     1346  [1082185, 1127831, 1058997, 1126899, 866211, 8..."
      ]
     },
     "execution_count": 121,
     "metadata": {
      "tags": []
     },
     "output_type": "execute_result"
    }
   ],
   "source": [
    "users_lvl_2.head()"
   ]
  },
  {
   "cell_type": "code",
   "execution_count": 122,
   "metadata": {
    "colab": {
     "base_uri": "https://localhost:8080/"
    },
    "id": "dEJfTo7N-bjQ",
    "outputId": "5cd6642f-9207-4f39-b5cb-0cc35f865bd9"
   },
   "outputs": [
    {
     "name": "stdout",
     "output_type": "stream",
     "text": [
      "<class 'pandas.core.frame.DataFrame'>\n",
      "RangeIndex: 2154 entries, 0 to 2153\n",
      "Data columns (total 2 columns):\n",
      " #   Column      Non-Null Count  Dtype \n",
      "---  ------      --------------  ----- \n",
      " 0   user_id     2154 non-null   int64 \n",
      " 1   candidates  2154 non-null   object\n",
      "dtypes: int64(1), object(1)\n",
      "memory usage: 33.8+ KB\n"
     ]
    }
   ],
   "source": [
    "users_lvl_2.info()"
   ]
  },
  {
   "cell_type": "code",
   "execution_count": 123,
   "metadata": {
    "id": "9z5RQcqV-bn6"
   },
   "outputs": [],
   "source": [
    "df=pd.DataFrame({'user_id':users_lvl_2.user_id.values.repeat(len(users_lvl_2.candidates[0])),\n",
    "                 'item_id':np.concatenate(users_lvl_2.candidates.values)})"
   ]
  },
  {
   "cell_type": "code",
   "execution_count": 124,
   "metadata": {
    "id": "Jg7b9L9IecU6"
   },
   "outputs": [],
   "source": [
    "targets_lvl_2 = data_train_lvl_2[['user_id', 'item_id']].copy()\n",
    "targets_lvl_2['target'] = 1  # тут только покупки \n",
    "\n",
    "targets_lvl_2 = df.merge(targets_lvl_2, on=['user_id', 'item_id'], how='left')\n",
    "\n",
    "targets_lvl_2['target'].fillna(0, inplace= True)"
   ]
  },
  {
   "cell_type": "code",
   "execution_count": 125,
   "metadata": {
    "colab": {
     "base_uri": "https://localhost:8080/"
    },
    "id": "M9jmp8_WecaG",
    "outputId": "f3ec1d82-bb3a-4c8f-a712-4e8bd647f4bd"
   },
   "outputs": [
    {
     "data": {
      "text/plain": [
       "(94223, 3)"
      ]
     },
     "execution_count": 125,
     "metadata": {
      "tags": []
     },
     "output_type": "execute_result"
    }
   ],
   "source": [
    "targets_lvl_2.shape"
   ]
  },
  {
   "cell_type": "code",
   "execution_count": 126,
   "metadata": {
    "colab": {
     "base_uri": "https://localhost:8080/",
     "height": 165
    },
    "id": "SUT5GG8uecfj",
    "outputId": "dffd6b67-9efb-4edd-862f-f388ab2fff66"
   },
   "outputs": [
    {
     "data": {
      "text/html": [
       "<div>\n",
       "<style scoped>\n",
       "    .dataframe tbody tr th:only-of-type {\n",
       "        vertical-align: middle;\n",
       "    }\n",
       "\n",
       "    .dataframe tbody tr th {\n",
       "        vertical-align: top;\n",
       "    }\n",
       "\n",
       "    .dataframe thead th {\n",
       "        text-align: right;\n",
       "    }\n",
       "</style>\n",
       "<table border=\"1\" class=\"dataframe\">\n",
       "  <thead>\n",
       "    <tr style=\"text-align: right;\">\n",
       "      <th></th>\n",
       "      <th>user_id</th>\n",
       "      <th>item_id</th>\n",
       "      <th>target</th>\n",
       "      <th>manufacturer</th>\n",
       "      <th>department</th>\n",
       "      <th>brand</th>\n",
       "      <th>commodity_desc</th>\n",
       "      <th>sub_commodity_desc</th>\n",
       "      <th>curr_size_of_product</th>\n",
       "      <th>age_desc</th>\n",
       "      <th>marital_status_code</th>\n",
       "      <th>income_desc</th>\n",
       "      <th>homeowner_desc</th>\n",
       "      <th>hh_comp_desc</th>\n",
       "      <th>household_size_desc</th>\n",
       "      <th>kid_category_desc</th>\n",
       "      <th>bill_avg</th>\n",
       "      <th>week_last_bill</th>\n",
       "      <th>items_per_week</th>\n",
       "    </tr>\n",
       "  </thead>\n",
       "  <tbody>\n",
       "    <tr>\n",
       "      <th>0</th>\n",
       "      <td>2070</td>\n",
       "      <td>1029743</td>\n",
       "      <td>0.0</td>\n",
       "      <td>69</td>\n",
       "      <td>GROCERY</td>\n",
       "      <td>Private</td>\n",
       "      <td>FLUID MILK PRODUCTS</td>\n",
       "      <td>FLUID MILK WHITE ONLY</td>\n",
       "      <td>1 GA</td>\n",
       "      <td>45-54</td>\n",
       "      <td>U</td>\n",
       "      <td>50-74K</td>\n",
       "      <td>Unknown</td>\n",
       "      <td>Unknown</td>\n",
       "      <td>1</td>\n",
       "      <td>None/Unknown</td>\n",
       "      <td>2.891039</td>\n",
       "      <td>95.0</td>\n",
       "      <td>29.814815</td>\n",
       "    </tr>\n",
       "    <tr>\n",
       "      <th>1</th>\n",
       "      <td>2070</td>\n",
       "      <td>883404</td>\n",
       "      <td>1.0</td>\n",
       "      <td>69</td>\n",
       "      <td>GROCERY</td>\n",
       "      <td>Private</td>\n",
       "      <td>BAKED BREAD/BUNS/ROLLS</td>\n",
       "      <td>MAINSTREAM WHITE BREAD</td>\n",
       "      <td>20 OZ</td>\n",
       "      <td>45-54</td>\n",
       "      <td>U</td>\n",
       "      <td>50-74K</td>\n",
       "      <td>Unknown</td>\n",
       "      <td>Unknown</td>\n",
       "      <td>1</td>\n",
       "      <td>None/Unknown</td>\n",
       "      <td>2.891039</td>\n",
       "      <td>95.0</td>\n",
       "      <td>29.814815</td>\n",
       "    </tr>\n",
       "  </tbody>\n",
       "</table>\n",
       "</div>"
      ],
      "text/plain": [
       "   user_id  item_id  target  ...  bill_avg week_last_bill items_per_week\n",
       "0     2070  1029743     0.0  ...  2.891039           95.0      29.814815\n",
       "1     2070   883404     1.0  ...  2.891039           95.0      29.814815\n",
       "\n",
       "[2 rows x 19 columns]"
      ]
     },
     "execution_count": 126,
     "metadata": {
      "tags": []
     },
     "output_type": "execute_result"
    }
   ],
   "source": [
    "targets_lvl_2 = targets_lvl_2.merge(item_features, on='item_id', how='left') #\n",
    "targets_lvl_2 = targets_lvl_2.merge(user_features, on='user_id', how='left') #\n",
    "\n",
    "targets_lvl_2.head(2)"
   ]
  },
  {
   "cell_type": "code",
   "execution_count": 127,
   "metadata": {
    "colab": {
     "base_uri": "https://localhost:8080/"
    },
    "id": "b_rnx16aecjW",
    "outputId": "b07e408e-d4e9-4357-c1ce-674ef232d2f0"
   },
   "outputs": [
    {
     "data": {
      "text/plain": [
       "(94223, 19)"
      ]
     },
     "execution_count": 127,
     "metadata": {
      "tags": []
     },
     "output_type": "execute_result"
    }
   ],
   "source": [
    "targets_lvl_2.shape"
   ]
  },
  {
   "cell_type": "code",
   "execution_count": 128,
   "metadata": {
    "id": "GFQQn3YpIFt8"
   },
   "outputs": [],
   "source": [
    "targets_lvl_2.fillna(0, inplace=True)"
   ]
  },
  {
   "cell_type": "code",
   "execution_count": 129,
   "metadata": {
    "id": "fctm5nRSaDrQ"
   },
   "outputs": [],
   "source": [
    "X_train = targets_lvl_2.drop('target', axis=1)\n",
    "y_train = targets_lvl_2[['target']]"
   ]
  },
  {
   "cell_type": "code",
   "execution_count": 130,
   "metadata": {
    "colab": {
     "base_uri": "https://localhost:8080/"
    },
    "id": "YEWE4R4yd5dJ",
    "outputId": "e3201340-740e-4f33-9aab-0bc4c35579fd"
   },
   "outputs": [
    {
     "data": {
      "text/plain": [
       "['manufacturer',\n",
       " 'department',\n",
       " 'brand',\n",
       " 'commodity_desc',\n",
       " 'sub_commodity_desc',\n",
       " 'curr_size_of_product',\n",
       " 'age_desc',\n",
       " 'marital_status_code',\n",
       " 'income_desc',\n",
       " 'homeowner_desc',\n",
       " 'hh_comp_desc',\n",
       " 'household_size_desc',\n",
       " 'kid_category_desc',\n",
       " 'bill_avg',\n",
       " 'week_last_bill',\n",
       " 'items_per_week']"
      ]
     },
     "execution_count": 130,
     "metadata": {
      "tags": []
     },
     "output_type": "execute_result"
    }
   ],
   "source": [
    "cat_feats = X_train.columns[2:].tolist()\n",
    "X_train[cat_feats] = X_train[cat_feats].astype('category')\n",
    "\n",
    "cat_feats"
   ]
  },
  {
   "cell_type": "code",
   "execution_count": 131,
   "metadata": {
    "id": "eg1mQOKpI88x"
   },
   "outputs": [],
   "source": [
    "lgb = LGBMClassifier(objective='binary', \n",
    "                     n_estimators=1500,\n",
    "                     learning_rate=0.008,\n",
    "                     max_depth=7, \n",
    "                     verbose=1,\n",
    "                     categorical_column=cat_feats)\n",
    "\n",
    "hist = lgb.fit(X_train, y_train, \n",
    "               eval_set=[(X_train, y_train)],\n",
    "               eval_metric=['logloss'],\n",
    "               early_stopping_rounds=50,\n",
    "               verbose=0)\n",
    "\n",
    "train_preds = lgb.predict_proba(X_train)"
   ]
  },
  {
   "cell_type": "code",
   "execution_count": 132,
   "metadata": {
    "colab": {
     "base_uri": "https://localhost:8080/"
    },
    "id": "PhYBDirlJNmY",
    "outputId": "5ae1bdfa-3846-4a5a-8f4e-2251fd5f7beb"
   },
   "outputs": [
    {
     "data": {
      "text/plain": [
       "[0.3797458828180062,\n",
       " 0.3797249579954718,\n",
       " 0.3796862092747186,\n",
       " 0.3796616880164342,\n",
       " 0.37964265391768953,\n",
       " 0.37962456171089826,\n",
       " 0.3796061531401314,\n",
       " 0.379572166790896,\n",
       " 0.3795370841628755,\n",
       " 0.37948243502924556]"
      ]
     },
     "execution_count": 132,
     "metadata": {
      "tags": []
     },
     "output_type": "execute_result"
    }
   ],
   "source": [
    "hist.evals_result_['training']['binary_logloss'][-10:]"
   ]
  },
  {
   "cell_type": "code",
   "execution_count": 133,
   "metadata": {
    "colab": {
     "base_uri": "https://localhost:8080/",
     "height": 204
    },
    "id": "vzlQw_M_KEsg",
    "outputId": "da1426d5-421c-4a8f-e896-c2df7f39d31f"
   },
   "outputs": [
    {
     "data": {
      "text/html": [
       "<div>\n",
       "<style scoped>\n",
       "    .dataframe tbody tr th:only-of-type {\n",
       "        vertical-align: middle;\n",
       "    }\n",
       "\n",
       "    .dataframe tbody tr th {\n",
       "        vertical-align: top;\n",
       "    }\n",
       "\n",
       "    .dataframe thead th {\n",
       "        text-align: right;\n",
       "    }\n",
       "</style>\n",
       "<table border=\"1\" class=\"dataframe\">\n",
       "  <thead>\n",
       "    <tr style=\"text-align: right;\">\n",
       "      <th></th>\n",
       "      <th>user_id</th>\n",
       "      <th>item_id</th>\n",
       "      <th>pred</th>\n",
       "    </tr>\n",
       "  </thead>\n",
       "  <tbody>\n",
       "    <tr>\n",
       "      <th>94218</th>\n",
       "      <td>1745</td>\n",
       "      <td>1038217</td>\n",
       "      <td>0.019470</td>\n",
       "    </tr>\n",
       "    <tr>\n",
       "      <th>94219</th>\n",
       "      <td>1745</td>\n",
       "      <td>985119</td>\n",
       "      <td>0.018644</td>\n",
       "    </tr>\n",
       "    <tr>\n",
       "      <th>94220</th>\n",
       "      <td>1745</td>\n",
       "      <td>1043590</td>\n",
       "      <td>0.016858</td>\n",
       "    </tr>\n",
       "    <tr>\n",
       "      <th>94221</th>\n",
       "      <td>1745</td>\n",
       "      <td>854852</td>\n",
       "      <td>0.016256</td>\n",
       "    </tr>\n",
       "    <tr>\n",
       "      <th>94222</th>\n",
       "      <td>1745</td>\n",
       "      <td>9526410</td>\n",
       "      <td>0.003377</td>\n",
       "    </tr>\n",
       "  </tbody>\n",
       "</table>\n",
       "</div>"
      ],
      "text/plain": [
       "       user_id  item_id      pred\n",
       "94218     1745  1038217  0.019470\n",
       "94219     1745   985119  0.018644\n",
       "94220     1745  1043590  0.016858\n",
       "94221     1745   854852  0.016256\n",
       "94222     1745  9526410  0.003377"
      ]
     },
     "execution_count": 133,
     "metadata": {
      "tags": []
     },
     "output_type": "execute_result"
    }
   ],
   "source": [
    "classifer_prediction = X_train[['user_id', 'item_id']]\n",
    "classifer_prediction[\"pred\"] = train_preds[:, 1]\n",
    "classifer_prediction.tail()"
   ]
  },
  {
   "cell_type": "code",
   "execution_count": 134,
   "metadata": {
    "colab": {
     "base_uri": "https://localhost:8080/"
    },
    "id": "w7iW9pIyKWrl",
    "outputId": "8489a0bb-205e-470b-9fc1-f617166f05fa"
   },
   "outputs": [
    {
     "data": {
      "text/plain": [
       "(9708, 2)"
      ]
     },
     "execution_count": 134,
     "metadata": {
      "tags": []
     },
     "output_type": "execute_result"
    }
   ],
   "source": [
    "res_val = classifer_prediction.loc[classifer_prediction[\"pred\"]>0.5, [\"user_id\", \"item_id\"]]\n",
    "res_val.shape"
   ]
  },
  {
   "cell_type": "code",
   "execution_count": 135,
   "metadata": {
    "colab": {
     "base_uri": "https://localhost:8080/",
     "height": 204
    },
    "id": "kl0CaknIPa2i",
    "outputId": "e619af88-72fa-4b9c-ba64-f810bfb0b965"
   },
   "outputs": [
    {
     "data": {
      "text/html": [
       "<div>\n",
       "<style scoped>\n",
       "    .dataframe tbody tr th:only-of-type {\n",
       "        vertical-align: middle;\n",
       "    }\n",
       "\n",
       "    .dataframe tbody tr th {\n",
       "        vertical-align: top;\n",
       "    }\n",
       "\n",
       "    .dataframe thead th {\n",
       "        text-align: right;\n",
       "    }\n",
       "</style>\n",
       "<table border=\"1\" class=\"dataframe\">\n",
       "  <thead>\n",
       "    <tr style=\"text-align: right;\">\n",
       "      <th></th>\n",
       "      <th>user_id</th>\n",
       "      <th>pred</th>\n",
       "    </tr>\n",
       "  </thead>\n",
       "  <tbody>\n",
       "    <tr>\n",
       "      <th>0</th>\n",
       "      <td>1</td>\n",
       "      <td>[995242, 1082185, 1029743, 940947]</td>\n",
       "    </tr>\n",
       "    <tr>\n",
       "      <th>1</th>\n",
       "      <td>7</td>\n",
       "      <td>[1082185, 1106523, 1126899]</td>\n",
       "    </tr>\n",
       "    <tr>\n",
       "      <th>2</th>\n",
       "      <td>8</td>\n",
       "      <td>[1082185]</td>\n",
       "    </tr>\n",
       "    <tr>\n",
       "      <th>3</th>\n",
       "      <td>13</td>\n",
       "      <td>[840361, 5978648, 1126899, 1029743, 5978656, 9...</td>\n",
       "    </tr>\n",
       "    <tr>\n",
       "      <th>4</th>\n",
       "      <td>17</td>\n",
       "      <td>[1029743, 995242, 1082185, 862349]</td>\n",
       "    </tr>\n",
       "  </tbody>\n",
       "</table>\n",
       "</div>"
      ],
      "text/plain": [
       "   user_id                                               pred\n",
       "0        1                 [995242, 1082185, 1029743, 940947]\n",
       "1        7                        [1082185, 1106523, 1126899]\n",
       "2        8                                          [1082185]\n",
       "3       13  [840361, 5978648, 1126899, 1029743, 5978656, 9...\n",
       "4       17                 [1029743, 995242, 1082185, 862349]"
      ]
     },
     "execution_count": 135,
     "metadata": {
      "tags": []
     },
     "output_type": "execute_result"
    }
   ],
   "source": [
    "pred_lvl_2 = res_val.groupby('user_id')['item_id'].unique().reset_index()\n",
    "pred_lvl_2.columns=['user_id', 'pred']\n",
    "pred_lvl_2.head()"
   ]
  },
  {
   "cell_type": "code",
   "execution_count": 136,
   "metadata": {
    "colab": {
     "base_uri": "https://localhost:8080/",
     "height": 204
    },
    "id": "n2kad1r_Pj7Z",
    "outputId": "d2157ae1-b617-4d2d-8b36-37964bc7534d"
   },
   "outputs": [
    {
     "data": {
      "text/html": [
       "<div>\n",
       "<style scoped>\n",
       "    .dataframe tbody tr th:only-of-type {\n",
       "        vertical-align: middle;\n",
       "    }\n",
       "\n",
       "    .dataframe tbody tr th {\n",
       "        vertical-align: top;\n",
       "    }\n",
       "\n",
       "    .dataframe thead th {\n",
       "        text-align: right;\n",
       "    }\n",
       "</style>\n",
       "<table border=\"1\" class=\"dataframe\">\n",
       "  <thead>\n",
       "    <tr style=\"text-align: right;\">\n",
       "      <th></th>\n",
       "      <th>user_id</th>\n",
       "      <th>actual</th>\n",
       "      <th>pred</th>\n",
       "    </tr>\n",
       "  </thead>\n",
       "  <tbody>\n",
       "    <tr>\n",
       "      <th>0</th>\n",
       "      <td>1</td>\n",
       "      <td>[999999, 856942, 865456, 889248, 907957, 91419...</td>\n",
       "      <td>[995242, 1082185, 1029743, 940947]</td>\n",
       "    </tr>\n",
       "    <tr>\n",
       "      <th>1</th>\n",
       "      <td>3</td>\n",
       "      <td>[835476, 999999, 872021, 909638, 920626, 95815...</td>\n",
       "      <td>NaN</td>\n",
       "    </tr>\n",
       "    <tr>\n",
       "      <th>2</th>\n",
       "      <td>6</td>\n",
       "      <td>[999999, 946489, 1006718, 1104227, 1108624, 82...</td>\n",
       "      <td>NaN</td>\n",
       "    </tr>\n",
       "    <tr>\n",
       "      <th>3</th>\n",
       "      <td>7</td>\n",
       "      <td>[840386, 999999, 898068, 909714, 993838, 10031...</td>\n",
       "      <td>[1082185, 1106523, 1126899]</td>\n",
       "    </tr>\n",
       "    <tr>\n",
       "      <th>4</th>\n",
       "      <td>8</td>\n",
       "      <td>[835098, 872137, 910439, 924610, 992977, 99999...</td>\n",
       "      <td>[1082185]</td>\n",
       "    </tr>\n",
       "  </tbody>\n",
       "</table>\n",
       "</div>"
      ],
      "text/plain": [
       "   user_id  ...                                pred\n",
       "0        1  ...  [995242, 1082185, 1029743, 940947]\n",
       "1        3  ...                                 NaN\n",
       "2        6  ...                                 NaN\n",
       "3        7  ...         [1082185, 1106523, 1126899]\n",
       "4        8  ...                           [1082185]\n",
       "\n",
       "[5 rows x 3 columns]"
      ]
     },
     "execution_count": 136,
     "metadata": {
      "tags": []
     },
     "output_type": "execute_result"
    }
   ],
   "source": [
    "result_lvl_2 = result_lvl_2.merge(pred_lvl_2, on='user_id', how='left')\n",
    "result_lvl_2.head()"
   ]
  },
  {
   "cell_type": "code",
   "execution_count": 137,
   "metadata": {
    "colab": {
     "base_uri": "https://localhost:8080/"
    },
    "id": "eu23gkYuQZPH",
    "outputId": "6c5fa7a7-968b-4e70-82d1-2b2fd8dc58ed"
   },
   "outputs": [
    {
     "data": {
      "text/plain": [
       "1329"
      ]
     },
     "execution_count": 137,
     "metadata": {
      "tags": []
     },
     "output_type": "execute_result"
    }
   ],
   "source": [
    "user_pred_nan = result_lvl_2.loc[result_lvl_2[\"pred\"] != result_lvl_2[\"pred\"], 'user_id'].values\n",
    "len(user_pred_nan)"
   ]
  },
  {
   "cell_type": "code",
   "execution_count": 138,
   "metadata": {
    "colab": {
     "base_uri": "https://localhost:8080/"
    },
    "id": "kR5JW7OrVcsX",
    "outputId": "9679395d-601a-4877-e9c5-04a1cf1cde2d"
   },
   "outputs": [
    {
     "data": {
      "text/plain": [
       "2498"
      ]
     },
     "execution_count": 138,
     "metadata": {
      "tags": []
     },
     "output_type": "execute_result"
    }
   ],
   "source": [
    "set_tr_1 = set(data_train_lvl_1.user_id.unique())\n",
    "len(set_tr_1)"
   ]
  },
  {
   "cell_type": "code",
   "execution_count": 139,
   "metadata": {
    "colab": {
     "base_uri": "https://localhost:8080/"
    },
    "id": "3BjbFAbRWZaI",
    "outputId": "1bdd8273-2960-443b-d37a-bc3ec7d09cc7"
   },
   "outputs": [
    {
     "data": {
      "text/plain": [
       "1328"
      ]
     },
     "execution_count": 139,
     "metadata": {
      "tags": []
     },
     "output_type": "execute_result"
    }
   ],
   "source": [
    "user_list = set(user_pred_nan).intersection(set_tr_1)\n",
    "len(user_list)"
   ]
  },
  {
   "cell_type": "code",
   "execution_count": 140,
   "metadata": {
    "colab": {
     "base_uri": "https://localhost:8080/",
     "height": 204
    },
    "id": "oMtZDaV3NW6a",
    "outputId": "21d1ebb0-8456-4115-9152-dc563f5cb5c6"
   },
   "outputs": [
    {
     "data": {
      "text/html": [
       "<div>\n",
       "<style scoped>\n",
       "    .dataframe tbody tr th:only-of-type {\n",
       "        vertical-align: middle;\n",
       "    }\n",
       "\n",
       "    .dataframe tbody tr th {\n",
       "        vertical-align: top;\n",
       "    }\n",
       "\n",
       "    .dataframe thead th {\n",
       "        text-align: right;\n",
       "    }\n",
       "</style>\n",
       "<table border=\"1\" class=\"dataframe\">\n",
       "  <thead>\n",
       "    <tr style=\"text-align: right;\">\n",
       "      <th></th>\n",
       "      <th>user_id</th>\n",
       "      <th>actual</th>\n",
       "      <th>pred</th>\n",
       "    </tr>\n",
       "  </thead>\n",
       "  <tbody>\n",
       "    <tr>\n",
       "      <th>0</th>\n",
       "      <td>1</td>\n",
       "      <td>[999999, 856942, 865456, 889248, 907957, 91419...</td>\n",
       "      <td>[995242, 1082185, 1029743, 940947]</td>\n",
       "    </tr>\n",
       "    <tr>\n",
       "      <th>1</th>\n",
       "      <td>3</td>\n",
       "      <td>[835476, 999999, 872021, 909638, 920626, 95815...</td>\n",
       "      <td>[1092026, 1106523, 1053690, 844165, 5568378]</td>\n",
       "    </tr>\n",
       "    <tr>\n",
       "      <th>2</th>\n",
       "      <td>6</td>\n",
       "      <td>[999999, 946489, 1006718, 1104227, 1108624, 82...</td>\n",
       "      <td>[866211, 1023720, 1024306, 878996, 1127831]</td>\n",
       "    </tr>\n",
       "    <tr>\n",
       "      <th>3</th>\n",
       "      <td>7</td>\n",
       "      <td>[840386, 999999, 898068, 909714, 993838, 10031...</td>\n",
       "      <td>[1082185, 1106523, 1126899]</td>\n",
       "    </tr>\n",
       "    <tr>\n",
       "      <th>4</th>\n",
       "      <td>8</td>\n",
       "      <td>[835098, 872137, 910439, 924610, 992977, 99999...</td>\n",
       "      <td>[1082185]</td>\n",
       "    </tr>\n",
       "  </tbody>\n",
       "</table>\n",
       "</div>"
      ],
      "text/plain": [
       "   user_id  ...                                          pred\n",
       "0        1  ...            [995242, 1082185, 1029743, 940947]\n",
       "1        3  ...  [1092026, 1106523, 1053690, 844165, 5568378]\n",
       "2        6  ...   [866211, 1023720, 1024306, 878996, 1127831]\n",
       "3        7  ...                   [1082185, 1106523, 1126899]\n",
       "4        8  ...                                     [1082185]\n",
       "\n",
       "[5 rows x 3 columns]"
      ]
     },
     "execution_count": 140,
     "metadata": {
      "tags": []
     },
     "output_type": "execute_result"
    }
   ],
   "source": [
    "result_lvl_2.loc[result_lvl_2[\"user_id\"].isin(user_list), \"pred\"] =\\\n",
    "result_lvl_2.loc[result_lvl_2[\"user_id\"].isin(user_list), \"user_id\"].apply(lambda x: recommender.get_als_recommendations(x, rec_num=k_n))\n",
    "result_lvl_2.head()"
   ]
  },
  {
   "cell_type": "code",
   "execution_count": 141,
   "metadata": {
    "colab": {
     "base_uri": "https://localhost:8080/",
     "height": 80
    },
    "id": "4V_jWiDhZgl6",
    "outputId": "3f4e4164-9dbb-450c-bb64-8af8738c634b"
   },
   "outputs": [
    {
     "data": {
      "text/html": [
       "<div>\n",
       "<style scoped>\n",
       "    .dataframe tbody tr th:only-of-type {\n",
       "        vertical-align: middle;\n",
       "    }\n",
       "\n",
       "    .dataframe tbody tr th {\n",
       "        vertical-align: top;\n",
       "    }\n",
       "\n",
       "    .dataframe thead th {\n",
       "        text-align: right;\n",
       "    }\n",
       "</style>\n",
       "<table border=\"1\" class=\"dataframe\">\n",
       "  <thead>\n",
       "    <tr style=\"text-align: right;\">\n",
       "      <th></th>\n",
       "      <th>user_id</th>\n",
       "      <th>actual</th>\n",
       "      <th>pred</th>\n",
       "    </tr>\n",
       "  </thead>\n",
       "  <tbody>\n",
       "    <tr>\n",
       "      <th>1622</th>\n",
       "      <td>1984</td>\n",
       "      <td>[999999, 847344, 859237, 1064380, 1074516, 122...</td>\n",
       "      <td>NaN</td>\n",
       "    </tr>\n",
       "  </tbody>\n",
       "</table>\n",
       "</div>"
      ],
      "text/plain": [
       "      user_id                                             actual pred\n",
       "1622     1984  [999999, 847344, 859237, 1064380, 1074516, 122...  NaN"
      ]
     },
     "execution_count": 141,
     "metadata": {
      "tags": []
     },
     "output_type": "execute_result"
    }
   ],
   "source": [
    "result_lvl_2.loc[result_lvl_2[\"user_id\"] == 1984]"
   ]
  },
  {
   "cell_type": "code",
   "execution_count": 142,
   "metadata": {
    "colab": {
     "base_uri": "https://localhost:8080/"
    },
    "id": "THbgNB_lUfgL",
    "outputId": "a3768c5b-179a-40f4-ca6f-f5bc08b99cd4"
   },
   "outputs": [
    {
     "data": {
      "text/plain": [
       "[1082185, 995242, 1029743, 1133018, 981760]"
      ]
     },
     "execution_count": 142,
     "metadata": {
      "tags": []
     },
     "output_type": "execute_result"
    }
   ],
   "source": [
    "popularity = recommender.prep_data.groupby('item_id')['quantity'].sum().reset_index()\n",
    "popularity.rename(columns={'quantity': 'n_sold'}, inplace=True)\n",
    "top_5 = popularity.sort_values('n_sold', ascending=False).head(6).item_id.tolist()[1:6]\n",
    "top_5"
   ]
  },
  {
   "cell_type": "code",
   "execution_count": 143,
   "metadata": {
    "id": "8lmhr2yDZuCd"
   },
   "outputs": [],
   "source": [
    "result_lvl_2.loc[result_lvl_2[\"user_id\"] == 1984, \"pred\"] =\\\n",
    "        result_lvl_2.loc[result_lvl_2[\"user_id\"] == 1984, \"user_id\"].apply(lambda x: top_5)"
   ]
  },
  {
   "cell_type": "code",
   "execution_count": 144,
   "metadata": {
    "colab": {
     "base_uri": "https://localhost:8080/",
     "height": 80
    },
    "id": "lA55YhlQZoUR",
    "outputId": "e5dba391-82de-48a5-b30d-46832cedb57c"
   },
   "outputs": [
    {
     "data": {
      "text/html": [
       "<div>\n",
       "<style scoped>\n",
       "    .dataframe tbody tr th:only-of-type {\n",
       "        vertical-align: middle;\n",
       "    }\n",
       "\n",
       "    .dataframe tbody tr th {\n",
       "        vertical-align: top;\n",
       "    }\n",
       "\n",
       "    .dataframe thead th {\n",
       "        text-align: right;\n",
       "    }\n",
       "</style>\n",
       "<table border=\"1\" class=\"dataframe\">\n",
       "  <thead>\n",
       "    <tr style=\"text-align: right;\">\n",
       "      <th></th>\n",
       "      <th>user_id</th>\n",
       "      <th>actual</th>\n",
       "      <th>pred</th>\n",
       "    </tr>\n",
       "  </thead>\n",
       "  <tbody>\n",
       "    <tr>\n",
       "      <th>1622</th>\n",
       "      <td>1984</td>\n",
       "      <td>[999999, 847344, 859237, 1064380, 1074516, 122...</td>\n",
       "      <td>[1082185, 995242, 1029743, 1133018, 981760]</td>\n",
       "    </tr>\n",
       "  </tbody>\n",
       "</table>\n",
       "</div>"
      ],
      "text/plain": [
       "      user_id  ...                                         pred\n",
       "1622     1984  ...  [1082185, 995242, 1029743, 1133018, 981760]\n",
       "\n",
       "[1 rows x 3 columns]"
      ]
     },
     "execution_count": 144,
     "metadata": {
      "tags": []
     },
     "output_type": "execute_result"
    }
   ],
   "source": [
    "result_lvl_2.loc[result_lvl_2[\"user_id\"] == 1984]"
   ]
  },
  {
   "cell_type": "code",
   "execution_count": 145,
   "metadata": {
    "colab": {
     "base_uri": "https://localhost:8080/"
    },
    "id": "EfAA2mUsgibJ",
    "outputId": "1c5eabc4-7a00-4f02-d59b-54dce24e824a"
   },
   "outputs": [
    {
     "data": {
      "text/plain": [
       "5"
      ]
     },
     "execution_count": 145,
     "metadata": {
      "tags": []
     },
     "output_type": "execute_result"
    }
   ],
   "source": [
    "len(result_lvl_2.loc[result_lvl_2[\"user_id\"] == 1984, \"pred\"].values[0])"
   ]
  },
  {
   "cell_type": "code",
   "execution_count": 146,
   "metadata": {
    "colab": {
     "base_uri": "https://localhost:8080/"
    },
    "id": "9obJg_0JhSxa",
    "outputId": "8ea319f8-b1a3-490c-d804-03ec135597ff"
   },
   "outputs": [
    {
     "data": {
      "text/plain": [
       "[1082185, 995242, 1029743, 1133018, 981760]"
      ]
     },
     "execution_count": 146,
     "metadata": {
      "tags": []
     },
     "output_type": "execute_result"
    }
   ],
   "source": [
    "res = []\n",
    "res.extend(result_lvl_2.loc[result_lvl_2[\"user_id\"] == 1984, \"pred\"].values[0])\n",
    "res"
   ]
  },
  {
   "cell_type": "code",
   "execution_count": 147,
   "metadata": {
    "id": "ucE8FN7RPv5j"
   },
   "outputs": [],
   "source": [
    "def fill_if_not_5(recommender, x):\n",
    "    res = []\n",
    "    res.extend(result_lvl_2.loc[result_lvl_2[\"user_id\"] == x, \"pred\"].values[0])\n",
    "    pred_num = len(result_lvl_2.loc[result_lvl_2[\"user_id\"] == x, \"pred\"].values[0])\n",
    "    if pred_num < 5:\n",
    "        res.extend(recommender.get_als_recommendations(x, rec_num=5-pred_num))\n",
    "    return res"
   ]
  },
  {
   "cell_type": "code",
   "execution_count": 148,
   "metadata": {
    "id": "5fmsnnuPofdY"
   },
   "outputs": [],
   "source": [
    "result_lvl_2[\"pred\"] = result_lvl_2[\"user_id\"].apply(lambda x: fill_if_not_5(recommender, x))"
   ]
  },
  {
   "cell_type": "code",
   "execution_count": 149,
   "metadata": {
    "colab": {
     "base_uri": "https://localhost:8080/",
     "height": 204
    },
    "id": "LMnQRXnSQKO-",
    "outputId": "192f3fdd-8e40-4b40-c047-f2283c1c6305"
   },
   "outputs": [
    {
     "data": {
      "text/html": [
       "<div>\n",
       "<style scoped>\n",
       "    .dataframe tbody tr th:only-of-type {\n",
       "        vertical-align: middle;\n",
       "    }\n",
       "\n",
       "    .dataframe tbody tr th {\n",
       "        vertical-align: top;\n",
       "    }\n",
       "\n",
       "    .dataframe thead th {\n",
       "        text-align: right;\n",
       "    }\n",
       "</style>\n",
       "<table border=\"1\" class=\"dataframe\">\n",
       "  <thead>\n",
       "    <tr style=\"text-align: right;\">\n",
       "      <th></th>\n",
       "      <th>user_id</th>\n",
       "      <th>actual</th>\n",
       "      <th>pred</th>\n",
       "    </tr>\n",
       "  </thead>\n",
       "  <tbody>\n",
       "    <tr>\n",
       "      <th>0</th>\n",
       "      <td>1</td>\n",
       "      <td>[999999, 856942, 865456, 889248, 907957, 91419...</td>\n",
       "      <td>[995242, 1082185, 1029743, 940947, 965766]</td>\n",
       "    </tr>\n",
       "    <tr>\n",
       "      <th>1</th>\n",
       "      <td>3</td>\n",
       "      <td>[835476, 999999, 872021, 909638, 920626, 95815...</td>\n",
       "      <td>[1092026, 1106523, 1053690, 844165, 5568378]</td>\n",
       "    </tr>\n",
       "    <tr>\n",
       "      <th>2</th>\n",
       "      <td>6</td>\n",
       "      <td>[999999, 946489, 1006718, 1104227, 1108624, 82...</td>\n",
       "      <td>[866211, 1023720, 1024306, 878996, 1127831]</td>\n",
       "    </tr>\n",
       "    <tr>\n",
       "      <th>3</th>\n",
       "      <td>7</td>\n",
       "      <td>[840386, 999999, 898068, 909714, 993838, 10031...</td>\n",
       "      <td>[1082185, 1106523, 1126899, 1082185, 1127831]</td>\n",
       "    </tr>\n",
       "    <tr>\n",
       "      <th>4</th>\n",
       "      <td>8</td>\n",
       "      <td>[835098, 872137, 910439, 924610, 992977, 99999...</td>\n",
       "      <td>[1082185, 840361, 5569230, 1005186, 883404]</td>\n",
       "    </tr>\n",
       "  </tbody>\n",
       "</table>\n",
       "</div>"
      ],
      "text/plain": [
       "   user_id  ...                                           pred\n",
       "0        1  ...     [995242, 1082185, 1029743, 940947, 965766]\n",
       "1        3  ...   [1092026, 1106523, 1053690, 844165, 5568378]\n",
       "2        6  ...    [866211, 1023720, 1024306, 878996, 1127831]\n",
       "3        7  ...  [1082185, 1106523, 1126899, 1082185, 1127831]\n",
       "4        8  ...    [1082185, 840361, 5569230, 1005186, 883404]\n",
       "\n",
       "[5 rows x 3 columns]"
      ]
     },
     "execution_count": 149,
     "metadata": {
      "tags": []
     },
     "output_type": "execute_result"
    }
   ],
   "source": [
    "result_lvl_2.head()"
   ]
  },
  {
   "cell_type": "code",
   "execution_count": 150,
   "metadata": {
    "colab": {
     "base_uri": "https://localhost:8080/"
    },
    "id": "YtuN3BpYQ-77",
    "outputId": "25534c60-6828-4c07-ecf3-af7f82492480"
   },
   "outputs": [
    {
     "data": {
      "text/plain": [
       "0.2531831537708103"
      ]
     },
     "execution_count": 150,
     "metadata": {
      "tags": []
     },
     "output_type": "execute_result"
    }
   ],
   "source": [
    "result_lvl_2[\"rec\"] = result_lvl_2['user_id'].apply(\\\n",
    "        lambda x: precision_at_k(result_lvl_2.loc[result_lvl_2[\"user_id\"] == x, \"pred\"].values[0], \n",
    "                                 list(result_lvl_2.loc[result_lvl_2[\"user_id\"] == x, \"actual\"].values[0]), \n",
    "                                 k=5))\n",
    "\n",
    "result_lvl_2['rec'].mean()"
   ]
  },
  {
   "cell_type": "markdown",
   "metadata": {
    "id": "bOxuYPkkVzfD"
   },
   "source": [
    "### LightGBM Ranker"
   ]
  },
  {
   "cell_type": "code",
   "execution_count": 62,
   "metadata": {
    "colab": {
     "base_uri": "https://localhost:8080/"
    },
    "id": "xEBN3YCFQQO7",
    "outputId": "95402b2a-64d5-44df-edcc-94aa7d9193a2"
   },
   "outputs": [
    {
     "data": {
      "text/plain": [
       "(48545, 18)"
      ]
     },
     "execution_count": 62,
     "metadata": {
      "tags": []
     },
     "output_type": "execute_result"
    }
   ],
   "source": [
    "X_train.shape"
   ]
  },
  {
   "cell_type": "code",
   "execution_count": 63,
   "metadata": {
    "id": "wJNpRwTgV865"
   },
   "outputs": [],
   "source": [
    "X_train['num'] = np.arange(len(X_train))"
   ]
  },
  {
   "cell_type": "code",
   "execution_count": 64,
   "metadata": {
    "id": "7so_yZc9V_sY"
   },
   "outputs": [],
   "source": [
    "gr = X_train[['user_id', 'num']].groupby('user_id', sort=False).max()['num'].values"
   ]
  },
  {
   "cell_type": "code",
   "execution_count": 65,
   "metadata": {
    "id": "979UoC6-WCBv"
   },
   "outputs": [],
   "source": [
    "grs = np.concatenate((np.array([gr[0]+1]), gr[1:] - gr[:-1]))"
   ]
  },
  {
   "cell_type": "code",
   "execution_count": 66,
   "metadata": {
    "colab": {
     "base_uri": "https://localhost:8080/"
    },
    "id": "z2bGE7j4WFRy",
    "outputId": "047ce5c4-9d23-4184-8059-12529544895f"
   },
   "outputs": [
    {
     "data": {
      "text/plain": [
       "((48545, 19), (48545, 1), 48545)"
      ]
     },
     "execution_count": 66,
     "metadata": {
      "tags": []
     },
     "output_type": "execute_result"
    }
   ],
   "source": [
    "X_train.shape, y_train.shape, np.sum(grs)"
   ]
  },
  {
   "cell_type": "code",
   "execution_count": 67,
   "metadata": {
    "id": "HC9C5jilWHwS"
   },
   "outputs": [],
   "source": [
    "from lightgbm import LGBMRanker\n",
    "\n",
    "lgb_params = { \n",
    "    'objective':'lambdarank',\n",
    "    'boosting_type': 'gbdt',\n",
    "    'n_estimators': 1000,\n",
    "    'learning_rate': 0.08,\n",
    "    'max_depth': 5,\n",
    "    'categorical_column': cat_feats,\n",
    "    'random_state': 27,\n",
    "    'verbose': 0,\n",
    "    'is_unbalance': True\n",
    "}"
   ]
  },
  {
   "cell_type": "code",
   "execution_count": 68,
   "metadata": {
    "id": "ajcWHhI2WLuG"
   },
   "outputs": [],
   "source": [
    "lgb_rn = LGBMRanker(**lgb_params, silent=False)\n",
    "\n",
    "eval_h = lgb_rn.fit(X_train, y_train, group=grs,\n",
    "                    eval_set=[(X_train, y_train)], eval_group=[grs], \n",
    "                    eval_metric=['ndcg'],\n",
    "                    eval_at=[5, 10 ], \n",
    "                    early_stopping_rounds=50, \n",
    "                    verbose=0)"
   ]
  },
  {
   "cell_type": "code",
   "execution_count": 69,
   "metadata": {
    "colab": {
     "base_uri": "https://localhost:8080/"
    },
    "id": "RoUtFCdfWO5Y",
    "outputId": "04acb96f-90c6-4432-d25e-1baf63e09ce1"
   },
   "outputs": [
    {
     "data": {
      "text/plain": [
       "([0.6276553608168751, 0.6276553608168751, 0.6352907909088611],\n",
       " [0.8364698088054933, 0.8364261946941001, 0.8364261946941001])"
      ]
     },
     "execution_count": 69,
     "metadata": {
      "tags": []
     },
     "output_type": "execute_result"
    }
   ],
   "source": [
    "eval_h.evals_result_['training']['ndcg@5'][:3], eval_h.evals_result_['training']['ndcg@5'][-3:]"
   ]
  },
  {
   "cell_type": "code",
   "execution_count": 70,
   "metadata": {
    "id": "Qs_qO5uLWWgi"
   },
   "outputs": [],
   "source": [
    "rank_preds = lgb_rn.predict(X_train)"
   ]
  },
  {
   "cell_type": "code",
   "execution_count": 71,
   "metadata": {
    "colab": {
     "base_uri": "https://localhost:8080/",
     "height": 204
    },
    "id": "QdhoXldLWdCR",
    "outputId": "3e60c872-8829-43bf-c555-9de153f5f469"
   },
   "outputs": [
    {
     "data": {
      "text/html": [
       "<div>\n",
       "<style scoped>\n",
       "    .dataframe tbody tr th:only-of-type {\n",
       "        vertical-align: middle;\n",
       "    }\n",
       "\n",
       "    .dataframe tbody tr th {\n",
       "        vertical-align: top;\n",
       "    }\n",
       "\n",
       "    .dataframe thead th {\n",
       "        text-align: right;\n",
       "    }\n",
       "</style>\n",
       "<table border=\"1\" class=\"dataframe\">\n",
       "  <thead>\n",
       "    <tr style=\"text-align: right;\">\n",
       "      <th></th>\n",
       "      <th>user_id</th>\n",
       "      <th>item_id</th>\n",
       "      <th>pred</th>\n",
       "    </tr>\n",
       "  </thead>\n",
       "  <tbody>\n",
       "    <tr>\n",
       "      <th>0</th>\n",
       "      <td>2070</td>\n",
       "      <td>1029743</td>\n",
       "      <td>-0.917832</td>\n",
       "    </tr>\n",
       "    <tr>\n",
       "      <th>1</th>\n",
       "      <td>2070</td>\n",
       "      <td>883404</td>\n",
       "      <td>-0.274296</td>\n",
       "    </tr>\n",
       "    <tr>\n",
       "      <th>2</th>\n",
       "      <td>2070</td>\n",
       "      <td>1082185</td>\n",
       "      <td>-0.462071</td>\n",
       "    </tr>\n",
       "    <tr>\n",
       "      <th>3</th>\n",
       "      <td>2070</td>\n",
       "      <td>908531</td>\n",
       "      <td>-0.647724</td>\n",
       "    </tr>\n",
       "    <tr>\n",
       "      <th>4</th>\n",
       "      <td>2070</td>\n",
       "      <td>1127831</td>\n",
       "      <td>-1.661238</td>\n",
       "    </tr>\n",
       "  </tbody>\n",
       "</table>\n",
       "</div>"
      ],
      "text/plain": [
       "   user_id  item_id      pred\n",
       "0     2070  1029743 -0.917832\n",
       "1     2070   883404 -0.274296\n",
       "2     2070  1082185 -0.462071\n",
       "3     2070   908531 -0.647724\n",
       "4     2070  1127831 -1.661238"
      ]
     },
     "execution_count": 71,
     "metadata": {
      "tags": []
     },
     "output_type": "execute_result"
    }
   ],
   "source": [
    "ranker_prediction = X_train[['user_id', 'item_id']]\n",
    "ranker_prediction[\"pred\"] = rank_preds\n",
    "ranker_prediction.head()"
   ]
  },
  {
   "cell_type": "code",
   "execution_count": 72,
   "metadata": {
    "id": "JGKscHJvWhMM"
   },
   "outputs": [],
   "source": [
    "ranker_prediction = ranker_prediction.drop_duplicates()"
   ]
  },
  {
   "cell_type": "code",
   "execution_count": 73,
   "metadata": {
    "colab": {
     "base_uri": "https://localhost:8080/",
     "height": 204
    },
    "id": "lrl3NUsNWj5Z",
    "outputId": "1bdadd08-56bf-4dbb-bd00-6317f5df2366"
   },
   "outputs": [
    {
     "data": {
      "text/html": [
       "<div>\n",
       "<style scoped>\n",
       "    .dataframe tbody tr th:only-of-type {\n",
       "        vertical-align: middle;\n",
       "    }\n",
       "\n",
       "    .dataframe tbody tr th {\n",
       "        vertical-align: top;\n",
       "    }\n",
       "\n",
       "    .dataframe thead th {\n",
       "        text-align: right;\n",
       "    }\n",
       "</style>\n",
       "<table border=\"1\" class=\"dataframe\">\n",
       "  <thead>\n",
       "    <tr style=\"text-align: right;\">\n",
       "      <th></th>\n",
       "      <th>user_id</th>\n",
       "      <th>item_id</th>\n",
       "      <th>pred</th>\n",
       "    </tr>\n",
       "  </thead>\n",
       "  <tbody>\n",
       "    <tr>\n",
       "      <th>5574</th>\n",
       "      <td>1383</td>\n",
       "      <td>1077975</td>\n",
       "      <td>2.525370</td>\n",
       "    </tr>\n",
       "    <tr>\n",
       "      <th>37522</th>\n",
       "      <td>142</td>\n",
       "      <td>1093966</td>\n",
       "      <td>1.967510</td>\n",
       "    </tr>\n",
       "    <tr>\n",
       "      <th>27013</th>\n",
       "      <td>1914</td>\n",
       "      <td>894439</td>\n",
       "      <td>1.772266</td>\n",
       "    </tr>\n",
       "    <tr>\n",
       "      <th>38722</th>\n",
       "      <td>183</td>\n",
       "      <td>8090440</td>\n",
       "      <td>1.756711</td>\n",
       "    </tr>\n",
       "    <tr>\n",
       "      <th>6601</th>\n",
       "      <td>27</td>\n",
       "      <td>7409957</td>\n",
       "      <td>1.655706</td>\n",
       "    </tr>\n",
       "  </tbody>\n",
       "</table>\n",
       "</div>"
      ],
      "text/plain": [
       "       user_id  item_id      pred\n",
       "5574      1383  1077975  2.525370\n",
       "37522      142  1093966  1.967510\n",
       "27013     1914   894439  1.772266\n",
       "38722      183  8090440  1.756711\n",
       "6601        27  7409957  1.655706"
      ]
     },
     "execution_count": 73,
     "metadata": {
      "tags": []
     },
     "output_type": "execute_result"
    }
   ],
   "source": [
    "ranker_prediction.sort_values(by=\"pred\", inplace=True, ascending=False)\n",
    "ranker_prediction.head()"
   ]
  },
  {
   "cell_type": "code",
   "execution_count": 74,
   "metadata": {
    "colab": {
     "base_uri": "https://localhost:8080/",
     "height": 419
    },
    "id": "tg2MFDaeWmbM",
    "outputId": "d1e04d96-ce2f-4dba-9f02-225a17b5ec9e"
   },
   "outputs": [
    {
     "data": {
      "text/html": [
       "<div>\n",
       "<style scoped>\n",
       "    .dataframe tbody tr th:only-of-type {\n",
       "        vertical-align: middle;\n",
       "    }\n",
       "\n",
       "    .dataframe tbody tr th {\n",
       "        vertical-align: top;\n",
       "    }\n",
       "\n",
       "    .dataframe thead th {\n",
       "        text-align: right;\n",
       "    }\n",
       "</style>\n",
       "<table border=\"1\" class=\"dataframe\">\n",
       "  <thead>\n",
       "    <tr style=\"text-align: right;\">\n",
       "      <th></th>\n",
       "      <th>user_id</th>\n",
       "      <th>item_id</th>\n",
       "    </tr>\n",
       "  </thead>\n",
       "  <tbody>\n",
       "    <tr>\n",
       "      <th>0</th>\n",
       "      <td>1</td>\n",
       "      <td>[940947, 1082185, 995242, 1029743, 979707, 856...</td>\n",
       "    </tr>\n",
       "    <tr>\n",
       "      <th>1</th>\n",
       "      <td>2</td>\n",
       "      <td>[1106523, 1082185, 1053690, 1092026, 1037840, ...</td>\n",
       "    </tr>\n",
       "    <tr>\n",
       "      <th>2</th>\n",
       "      <td>4</td>\n",
       "      <td>[883932, 1029743, 1082185, 962229, 1106523, 99...</td>\n",
       "    </tr>\n",
       "    <tr>\n",
       "      <th>3</th>\n",
       "      <td>6</td>\n",
       "      <td>[962568, 1082185, 995242, 845208, 849843, 9817...</td>\n",
       "    </tr>\n",
       "    <tr>\n",
       "      <th>4</th>\n",
       "      <td>7</td>\n",
       "      <td>[1082185, 1106523, 1126899, 1122358, 1058997, ...</td>\n",
       "    </tr>\n",
       "    <tr>\n",
       "      <th>...</th>\n",
       "      <td>...</td>\n",
       "      <td>...</td>\n",
       "    </tr>\n",
       "    <tr>\n",
       "      <th>2149</th>\n",
       "      <td>2496</td>\n",
       "      <td>[1106523, 979707, 1056509, 981760, 916122, 826...</td>\n",
       "    </tr>\n",
       "    <tr>\n",
       "      <th>2150</th>\n",
       "      <td>2497</td>\n",
       "      <td>[1029743, 900802, 845208, 1082185, 1081177, 89...</td>\n",
       "    </tr>\n",
       "    <tr>\n",
       "      <th>2151</th>\n",
       "      <td>2498</td>\n",
       "      <td>[1070820, 1053690, 1126899, 1092026, 1082185, ...</td>\n",
       "    </tr>\n",
       "    <tr>\n",
       "      <th>2152</th>\n",
       "      <td>2499</td>\n",
       "      <td>[5568378, 5569327, 883404, 1070820, 1106523, 1...</td>\n",
       "    </tr>\n",
       "    <tr>\n",
       "      <th>2153</th>\n",
       "      <td>2500</td>\n",
       "      <td>[1082185, 1029743, 1106523, 995242, 1133018, 1...</td>\n",
       "    </tr>\n",
       "  </tbody>\n",
       "</table>\n",
       "<p>2154 rows × 2 columns</p>\n",
       "</div>"
      ],
      "text/plain": [
       "      user_id                                            item_id\n",
       "0           1  [940947, 1082185, 995242, 1029743, 979707, 856...\n",
       "1           2  [1106523, 1082185, 1053690, 1092026, 1037840, ...\n",
       "2           4  [883932, 1029743, 1082185, 962229, 1106523, 99...\n",
       "3           6  [962568, 1082185, 995242, 845208, 849843, 9817...\n",
       "4           7  [1082185, 1106523, 1126899, 1122358, 1058997, ...\n",
       "...       ...                                                ...\n",
       "2149     2496  [1106523, 979707, 1056509, 981760, 916122, 826...\n",
       "2150     2497  [1029743, 900802, 845208, 1082185, 1081177, 89...\n",
       "2151     2498  [1070820, 1053690, 1126899, 1092026, 1082185, ...\n",
       "2152     2499  [5568378, 5569327, 883404, 1070820, 1106523, 1...\n",
       "2153     2500  [1082185, 1029743, 1106523, 995242, 1133018, 1...\n",
       "\n",
       "[2154 rows x 2 columns]"
      ]
     },
     "execution_count": 74,
     "metadata": {
      "tags": []
     },
     "output_type": "execute_result"
    }
   ],
   "source": [
    "ranked_res = ranker_prediction.groupby('user_id')['item_id'].unique().reset_index()   \n",
    "ranked_res"
   ]
  },
  {
   "cell_type": "code",
   "execution_count": 75,
   "metadata": {
    "colab": {
     "base_uri": "https://localhost:8080/",
     "height": 419
    },
    "id": "gcCEoejKW1Mq",
    "outputId": "af3c3014-e88a-4f62-ccdc-87d6ac634807"
   },
   "outputs": [
    {
     "data": {
      "text/html": [
       "<div>\n",
       "<style scoped>\n",
       "    .dataframe tbody tr th:only-of-type {\n",
       "        vertical-align: middle;\n",
       "    }\n",
       "\n",
       "    .dataframe tbody tr th {\n",
       "        vertical-align: top;\n",
       "    }\n",
       "\n",
       "    .dataframe thead th {\n",
       "        text-align: right;\n",
       "    }\n",
       "</style>\n",
       "<table border=\"1\" class=\"dataframe\">\n",
       "  <thead>\n",
       "    <tr style=\"text-align: right;\">\n",
       "      <th></th>\n",
       "      <th>user_id</th>\n",
       "      <th>actual</th>\n",
       "      <th>item_id</th>\n",
       "    </tr>\n",
       "  </thead>\n",
       "  <tbody>\n",
       "    <tr>\n",
       "      <th>0</th>\n",
       "      <td>1</td>\n",
       "      <td>[999999, 856942, 865456, 889248, 907957, 91419...</td>\n",
       "      <td>[940947, 1082185, 995242, 1029743, 979707, 856...</td>\n",
       "    </tr>\n",
       "    <tr>\n",
       "      <th>1</th>\n",
       "      <td>3</td>\n",
       "      <td>[835476, 999999, 872021, 909638, 920626, 95815...</td>\n",
       "      <td>NaN</td>\n",
       "    </tr>\n",
       "    <tr>\n",
       "      <th>2</th>\n",
       "      <td>6</td>\n",
       "      <td>[999999, 946489, 1006718, 1104227, 1108624, 82...</td>\n",
       "      <td>[962568, 1082185, 995242, 845208, 849843, 9817...</td>\n",
       "    </tr>\n",
       "    <tr>\n",
       "      <th>3</th>\n",
       "      <td>7</td>\n",
       "      <td>[840386, 999999, 898068, 909714, 993838, 10031...</td>\n",
       "      <td>[1082185, 1106523, 1126899, 1122358, 1058997, ...</td>\n",
       "    </tr>\n",
       "    <tr>\n",
       "      <th>4</th>\n",
       "      <td>8</td>\n",
       "      <td>[835098, 872137, 910439, 924610, 992977, 99999...</td>\n",
       "      <td>[1082185, 1005186, 1029743, 923746, 1070820, 1...</td>\n",
       "    </tr>\n",
       "    <tr>\n",
       "      <th>...</th>\n",
       "      <td>...</td>\n",
       "      <td>...</td>\n",
       "      <td>...</td>\n",
       "    </tr>\n",
       "    <tr>\n",
       "      <th>2037</th>\n",
       "      <td>2496</td>\n",
       "      <td>[999999]</td>\n",
       "      <td>[1106523, 979707, 1056509, 981760, 916122, 826...</td>\n",
       "    </tr>\n",
       "    <tr>\n",
       "      <th>2038</th>\n",
       "      <td>2497</td>\n",
       "      <td>[1016709, 9835695, 999999, 845294, 871756, 873...</td>\n",
       "      <td>[1029743, 900802, 845208, 1082185, 1081177, 89...</td>\n",
       "    </tr>\n",
       "    <tr>\n",
       "      <th>2039</th>\n",
       "      <td>2498</td>\n",
       "      <td>[999999, 901776, 914190, 958382, 972437, 10398...</td>\n",
       "      <td>[1070820, 1053690, 1126899, 1092026, 1082185, ...</td>\n",
       "    </tr>\n",
       "    <tr>\n",
       "      <th>2040</th>\n",
       "      <td>2499</td>\n",
       "      <td>[867188, 999999, 902396, 914190, 951590, 95813...</td>\n",
       "      <td>[5568378, 5569327, 883404, 1070820, 1106523, 1...</td>\n",
       "    </tr>\n",
       "    <tr>\n",
       "      <th>2041</th>\n",
       "      <td>2500</td>\n",
       "      <td>[852182, 856345, 923746, 948670, 1018007, 1044...</td>\n",
       "      <td>[1082185, 1029743, 1106523, 995242, 1133018, 1...</td>\n",
       "    </tr>\n",
       "  </tbody>\n",
       "</table>\n",
       "<p>2042 rows × 3 columns</p>\n",
       "</div>"
      ],
      "text/plain": [
       "      user_id  ...                                            item_id\n",
       "0           1  ...  [940947, 1082185, 995242, 1029743, 979707, 856...\n",
       "1           3  ...                                                NaN\n",
       "2           6  ...  [962568, 1082185, 995242, 845208, 849843, 9817...\n",
       "3           7  ...  [1082185, 1106523, 1126899, 1122358, 1058997, ...\n",
       "4           8  ...  [1082185, 1005186, 1029743, 923746, 1070820, 1...\n",
       "...       ...  ...                                                ...\n",
       "2037     2496  ...  [1106523, 979707, 1056509, 981760, 916122, 826...\n",
       "2038     2497  ...  [1029743, 900802, 845208, 1082185, 1081177, 89...\n",
       "2039     2498  ...  [1070820, 1053690, 1126899, 1092026, 1082185, ...\n",
       "2040     2499  ...  [5568378, 5569327, 883404, 1070820, 1106523, 1...\n",
       "2041     2500  ...  [1082185, 1029743, 1106523, 995242, 1133018, 1...\n",
       "\n",
       "[2042 rows x 3 columns]"
      ]
     },
     "execution_count": 75,
     "metadata": {
      "tags": []
     },
     "output_type": "execute_result"
    }
   ],
   "source": [
    "result_lvl_2 = data_val_lvl_2.groupby('user_id')['item_id'].unique().reset_index()\n",
    "result_lvl_2.columns=['user_id', 'actual']\n",
    "\n",
    "result_lvl_2 = result_lvl_2.merge(ranked_res, on='user_id', how='left')\n",
    "result_lvl_2"
   ]
  },
  {
   "cell_type": "code",
   "execution_count": 76,
   "metadata": {
    "colab": {
     "base_uri": "https://localhost:8080/"
    },
    "id": "pD4cfxzlzQKo",
    "outputId": "ea725ebb-7a8a-465f-ca74-04d4cc2cb6d4"
   },
   "outputs": [
    {
     "data": {
      "text/plain": [
       "126"
      ]
     },
     "execution_count": 76,
     "metadata": {
      "tags": []
     },
     "output_type": "execute_result"
    }
   ],
   "source": [
    "user_pred_nan = result_lvl_2.loc[result_lvl_2[\"item_id\"] != result_lvl_2[\"item_id\"], 'user_id'].values\n",
    "len(user_pred_nan)"
   ]
  },
  {
   "cell_type": "code",
   "execution_count": 77,
   "metadata": {
    "colab": {
     "base_uri": "https://localhost:8080/"
    },
    "id": "fbWG14x7zkKM",
    "outputId": "c2f0e78f-a8c3-487b-ccf6-90097192b862"
   },
   "outputs": [
    {
     "data": {
      "text/plain": [
       "2498"
      ]
     },
     "execution_count": 77,
     "metadata": {
      "tags": []
     },
     "output_type": "execute_result"
    }
   ],
   "source": [
    "set_tr_1 = set(data_train_lvl_1.user_id.unique())\n",
    "len(set_tr_1)"
   ]
  },
  {
   "cell_type": "code",
   "execution_count": 78,
   "metadata": {
    "colab": {
     "base_uri": "https://localhost:8080/"
    },
    "id": "lcCkah8izkkG",
    "outputId": "672e1407-edff-4994-f8c3-3423fd002098"
   },
   "outputs": [
    {
     "data": {
      "text/plain": [
       "126"
      ]
     },
     "execution_count": 78,
     "metadata": {
      "tags": []
     },
     "output_type": "execute_result"
    }
   ],
   "source": [
    "user_list = set(user_pred_nan).intersection(set_tr_1)\n",
    "len(user_list)"
   ]
  },
  {
   "cell_type": "code",
   "execution_count": 79,
   "metadata": {
    "colab": {
     "base_uri": "https://localhost:8080/",
     "height": 204
    },
    "id": "NjBGQa33wWuw",
    "outputId": "fab21fb0-cf58-4637-fbaf-5e9454f26cc6"
   },
   "outputs": [
    {
     "data": {
      "text/html": [
       "<div>\n",
       "<style scoped>\n",
       "    .dataframe tbody tr th:only-of-type {\n",
       "        vertical-align: middle;\n",
       "    }\n",
       "\n",
       "    .dataframe tbody tr th {\n",
       "        vertical-align: top;\n",
       "    }\n",
       "\n",
       "    .dataframe thead th {\n",
       "        text-align: right;\n",
       "    }\n",
       "</style>\n",
       "<table border=\"1\" class=\"dataframe\">\n",
       "  <thead>\n",
       "    <tr style=\"text-align: right;\">\n",
       "      <th></th>\n",
       "      <th>user_id</th>\n",
       "      <th>actual</th>\n",
       "      <th>item_id</th>\n",
       "    </tr>\n",
       "  </thead>\n",
       "  <tbody>\n",
       "    <tr>\n",
       "      <th>0</th>\n",
       "      <td>1</td>\n",
       "      <td>[999999, 856942, 865456, 889248, 907957, 91419...</td>\n",
       "      <td>[940947, 1082185, 995242, 1029743, 979707, 856...</td>\n",
       "    </tr>\n",
       "    <tr>\n",
       "      <th>1</th>\n",
       "      <td>3</td>\n",
       "      <td>[835476, 999999, 872021, 909638, 920626, 95815...</td>\n",
       "      <td>[1092026, 1106523, 1053690, 844165, 5568378]</td>\n",
       "    </tr>\n",
       "    <tr>\n",
       "      <th>2</th>\n",
       "      <td>6</td>\n",
       "      <td>[999999, 946489, 1006718, 1104227, 1108624, 82...</td>\n",
       "      <td>[962568, 1082185, 995242, 845208, 849843, 9817...</td>\n",
       "    </tr>\n",
       "    <tr>\n",
       "      <th>3</th>\n",
       "      <td>7</td>\n",
       "      <td>[840386, 999999, 898068, 909714, 993838, 10031...</td>\n",
       "      <td>[1082185, 1106523, 1126899, 1122358, 1058997, ...</td>\n",
       "    </tr>\n",
       "    <tr>\n",
       "      <th>4</th>\n",
       "      <td>8</td>\n",
       "      <td>[835098, 872137, 910439, 924610, 992977, 99999...</td>\n",
       "      <td>[1082185, 1005186, 1029743, 923746, 1070820, 1...</td>\n",
       "    </tr>\n",
       "  </tbody>\n",
       "</table>\n",
       "</div>"
      ],
      "text/plain": [
       "   user_id  ...                                            item_id\n",
       "0        1  ...  [940947, 1082185, 995242, 1029743, 979707, 856...\n",
       "1        3  ...       [1092026, 1106523, 1053690, 844165, 5568378]\n",
       "2        6  ...  [962568, 1082185, 995242, 845208, 849843, 9817...\n",
       "3        7  ...  [1082185, 1106523, 1126899, 1122358, 1058997, ...\n",
       "4        8  ...  [1082185, 1005186, 1029743, 923746, 1070820, 1...\n",
       "\n",
       "[5 rows x 3 columns]"
      ]
     },
     "execution_count": 79,
     "metadata": {
      "tags": []
     },
     "output_type": "execute_result"
    }
   ],
   "source": [
    "result_lvl_2.loc[result_lvl_2[\"user_id\"].isin(user_list), \"item_id\"] =\\\n",
    "result_lvl_2.loc[result_lvl_2[\"user_id\"].isin(user_list), \"user_id\"].apply(lambda x: recommender.get_als_recommendations(x, rec_num=k_n))\n",
    "result_lvl_2.head()"
   ]
  },
  {
   "cell_type": "code",
   "execution_count": 80,
   "metadata": {
    "colab": {
     "base_uri": "https://localhost:8080/",
     "height": 80
    },
    "id": "22bFIS_wyHvF",
    "outputId": "9a2278c4-5754-48de-db16-4a2f66d48a77"
   },
   "outputs": [
    {
     "data": {
      "text/html": [
       "<div>\n",
       "<style scoped>\n",
       "    .dataframe tbody tr th:only-of-type {\n",
       "        vertical-align: middle;\n",
       "    }\n",
       "\n",
       "    .dataframe tbody tr th {\n",
       "        vertical-align: top;\n",
       "    }\n",
       "\n",
       "    .dataframe thead th {\n",
       "        text-align: right;\n",
       "    }\n",
       "</style>\n",
       "<table border=\"1\" class=\"dataframe\">\n",
       "  <thead>\n",
       "    <tr style=\"text-align: right;\">\n",
       "      <th></th>\n",
       "      <th>user_id</th>\n",
       "      <th>actual</th>\n",
       "      <th>item_id</th>\n",
       "    </tr>\n",
       "  </thead>\n",
       "  <tbody>\n",
       "    <tr>\n",
       "      <th>1622</th>\n",
       "      <td>1984</td>\n",
       "      <td>[999999, 847344, 859237, 1064380, 1074516, 122...</td>\n",
       "      <td>[1126899, 1106523, 1029743, 1082185, 995242, 1...</td>\n",
       "    </tr>\n",
       "  </tbody>\n",
       "</table>\n",
       "</div>"
      ],
      "text/plain": [
       "      user_id  ...                                            item_id\n",
       "1622     1984  ...  [1126899, 1106523, 1029743, 1082185, 995242, 1...\n",
       "\n",
       "[1 rows x 3 columns]"
      ]
     },
     "execution_count": 80,
     "metadata": {
      "tags": []
     },
     "output_type": "execute_result"
    }
   ],
   "source": [
    "result_lvl_2.loc[result_lvl_2[\"user_id\"] == 1984]"
   ]
  },
  {
   "cell_type": "code",
   "execution_count": 81,
   "metadata": {
    "colab": {
     "base_uri": "https://localhost:8080/"
    },
    "id": "6w_LSuSLwgkg",
    "outputId": "36cfdec2-a31f-4c92-faf3-7c53d665b61c"
   },
   "outputs": [
    {
     "data": {
      "text/plain": [
       "0.28961802154750177"
      ]
     },
     "execution_count": 81,
     "metadata": {
      "tags": []
     },
     "output_type": "execute_result"
    }
   ],
   "source": [
    "result_lvl_2[\"rec\"] = result_lvl_2['user_id'].apply(\\\n",
    "        lambda x: precision_at_k(result_lvl_2.loc[result_lvl_2[\"user_id\"] == x, \"item_id\"].values[0], \n",
    "                                 list(result_lvl_2.loc[result_lvl_2[\"user_id\"] == x, \"actual\"].values[0]), \n",
    "                                 k=5))\n",
    "\n",
    "result_lvl_2['rec'].mean()"
   ]
  },
  {
   "cell_type": "code",
   "execution_count": 77,
   "metadata": {
    "id": "_xBZEdgo0J_n"
   },
   "outputs": [],
   "source": []
  }
 ],
 "metadata": {
  "accelerator": "GPU",
  "colab": {
   "collapsed_sections": [],
   "include_colab_link": true,
   "name": "cw_rec_sys_glvv.ipynb",
   "provenance": []
  },
  "kernelspec": {
   "display_name": "Python 3",
   "language": "python",
   "name": "python3"
  },
  "language_info": {
   "codemirror_mode": {
    "name": "ipython",
    "version": 3
   },
   "file_extension": ".py",
   "mimetype": "text/x-python",
   "name": "python",
   "nbconvert_exporter": "python",
   "pygments_lexer": "ipython3",
   "version": "3.8.5"
  }
 },
 "nbformat": 4,
 "nbformat_minor": 4
}
